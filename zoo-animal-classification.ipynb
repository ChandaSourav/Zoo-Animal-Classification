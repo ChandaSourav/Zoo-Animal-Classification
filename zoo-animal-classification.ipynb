{
 "cells": [
  {
   "cell_type": "code",
   "execution_count": 1,
   "id": "5e6bd1d6",
   "metadata": {
    "_cell_guid": "b1076dfc-b9ad-4769-8c92-a6c4dae69d19",
    "_uuid": "8f2839f25d086af736a60e9eeb907d3b93b6e0e5",
    "execution": {
     "iopub.execute_input": "2023-04-02T17:39:29.602457Z",
     "iopub.status.busy": "2023-04-02T17:39:29.602014Z",
     "iopub.status.idle": "2023-04-02T17:39:31.206167Z",
     "shell.execute_reply": "2023-04-02T17:39:31.204653Z"
    },
    "papermill": {
     "duration": 1.613904,
     "end_time": "2023-04-02T17:39:31.209517",
     "exception": false,
     "start_time": "2023-04-02T17:39:29.595613",
     "status": "completed"
    },
    "tags": []
   },
   "outputs": [
    {
     "name": "stdout",
     "output_type": "stream",
     "text": [
      "/kaggle/input/zoo-animal-classification/class.csv\n",
      "/kaggle/input/zoo-animal-classification/zoo.csv\n"
     ]
    }
   ],
   "source": [
    "import numpy as np\n",
    "import pandas as pd\n",
    "import matplotlib.pyplot as plt\n",
    "import seaborn as sns\n",
    "from sklearn.model_selection import train_test_split\n",
    "from sklearn.linear_model import LinearRegression, LogisticRegression\n",
    "\n",
    "import os\n",
    "for dirname, _, filenames in os.walk('/kaggle/input'):\n",
    "    for filename in filenames:\n",
    "        print(os.path.join(dirname, filename))\n",
    "\n",
    "import warnings\n",
    "warnings.filterwarnings(\"ignore\")"
   ]
  },
  {
   "cell_type": "code",
   "execution_count": 2,
   "id": "172488cc",
   "metadata": {
    "execution": {
     "iopub.execute_input": "2023-04-02T17:39:31.218710Z",
     "iopub.status.busy": "2023-04-02T17:39:31.218237Z",
     "iopub.status.idle": "2023-04-02T17:39:31.248615Z",
     "shell.execute_reply": "2023-04-02T17:39:31.247533Z"
    },
    "papermill": {
     "duration": 0.038301,
     "end_time": "2023-04-02T17:39:31.251466",
     "exception": false,
     "start_time": "2023-04-02T17:39:31.213165",
     "status": "completed"
    },
    "tags": []
   },
   "outputs": [],
   "source": [
    "train_df = pd.read_csv(\"/kaggle/input/zoo-animal-classification/class.csv\")\n",
    "test_df = pd.read_csv(\"/kaggle/input/zoo-animal-classification/zoo.csv\")"
   ]
  },
  {
   "cell_type": "code",
   "execution_count": 3,
   "id": "79926f32",
   "metadata": {
    "execution": {
     "iopub.execute_input": "2023-04-02T17:39:31.260590Z",
     "iopub.status.busy": "2023-04-02T17:39:31.259905Z",
     "iopub.status.idle": "2023-04-02T17:39:31.288943Z",
     "shell.execute_reply": "2023-04-02T17:39:31.287413Z"
    },
    "papermill": {
     "duration": 0.036918,
     "end_time": "2023-04-02T17:39:31.291904",
     "exception": false,
     "start_time": "2023-04-02T17:39:31.254986",
     "status": "completed"
    },
    "tags": []
   },
   "outputs": [
    {
     "name": "stdout",
     "output_type": "stream",
     "text": [
      "<class 'pandas.core.frame.DataFrame'>\n",
      "RangeIndex: 7 entries, 0 to 6\n",
      "Data columns (total 4 columns):\n",
      " #   Column                             Non-Null Count  Dtype \n",
      "---  ------                             --------------  ----- \n",
      " 0   Class_Number                       7 non-null      int64 \n",
      " 1   Number_Of_Animal_Species_In_Class  7 non-null      int64 \n",
      " 2   Class_Type                         7 non-null      object\n",
      " 3   Animal_Names                       7 non-null      object\n",
      "dtypes: int64(2), object(2)\n",
      "memory usage: 352.0+ bytes\n"
     ]
    }
   ],
   "source": [
    "train_df.info()"
   ]
  },
  {
   "cell_type": "code",
   "execution_count": 4,
   "id": "2e1b9d6e",
   "metadata": {
    "execution": {
     "iopub.execute_input": "2023-04-02T17:39:31.300898Z",
     "iopub.status.busy": "2023-04-02T17:39:31.300400Z",
     "iopub.status.idle": "2023-04-02T17:39:31.316357Z",
     "shell.execute_reply": "2023-04-02T17:39:31.314791Z"
    },
    "papermill": {
     "duration": 0.024439,
     "end_time": "2023-04-02T17:39:31.319921",
     "exception": false,
     "start_time": "2023-04-02T17:39:31.295482",
     "status": "completed"
    },
    "tags": []
   },
   "outputs": [
    {
     "name": "stdout",
     "output_type": "stream",
     "text": [
      "<class 'pandas.core.frame.DataFrame'>\n",
      "RangeIndex: 101 entries, 0 to 100\n",
      "Data columns (total 18 columns):\n",
      " #   Column       Non-Null Count  Dtype \n",
      "---  ------       --------------  ----- \n",
      " 0   animal_name  101 non-null    object\n",
      " 1   hair         101 non-null    int64 \n",
      " 2   feathers     101 non-null    int64 \n",
      " 3   eggs         101 non-null    int64 \n",
      " 4   milk         101 non-null    int64 \n",
      " 5   airborne     101 non-null    int64 \n",
      " 6   aquatic      101 non-null    int64 \n",
      " 7   predator     101 non-null    int64 \n",
      " 8   toothed      101 non-null    int64 \n",
      " 9   backbone     101 non-null    int64 \n",
      " 10  breathes     101 non-null    int64 \n",
      " 11  venomous     101 non-null    int64 \n",
      " 12  fins         101 non-null    int64 \n",
      " 13  legs         101 non-null    int64 \n",
      " 14  tail         101 non-null    int64 \n",
      " 15  domestic     101 non-null    int64 \n",
      " 16  catsize      101 non-null    int64 \n",
      " 17  class_type   101 non-null    int64 \n",
      "dtypes: int64(17), object(1)\n",
      "memory usage: 14.3+ KB\n"
     ]
    }
   ],
   "source": [
    "test_df.info()"
   ]
  },
  {
   "cell_type": "code",
   "execution_count": 5,
   "id": "19ce17ce",
   "metadata": {
    "execution": {
     "iopub.execute_input": "2023-04-02T17:39:31.329679Z",
     "iopub.status.busy": "2023-04-02T17:39:31.329217Z",
     "iopub.status.idle": "2023-04-02T17:39:31.356356Z",
     "shell.execute_reply": "2023-04-02T17:39:31.355428Z"
    },
    "papermill": {
     "duration": 0.034957,
     "end_time": "2023-04-02T17:39:31.358616",
     "exception": false,
     "start_time": "2023-04-02T17:39:31.323659",
     "status": "completed"
    },
    "tags": []
   },
   "outputs": [
    {
     "data": {
      "text/html": [
       "<div>\n",
       "<style scoped>\n",
       "    .dataframe tbody tr th:only-of-type {\n",
       "        vertical-align: middle;\n",
       "    }\n",
       "\n",
       "    .dataframe tbody tr th {\n",
       "        vertical-align: top;\n",
       "    }\n",
       "\n",
       "    .dataframe thead th {\n",
       "        text-align: right;\n",
       "    }\n",
       "</style>\n",
       "<table border=\"1\" class=\"dataframe\">\n",
       "  <thead>\n",
       "    <tr style=\"text-align: right;\">\n",
       "      <th></th>\n",
       "      <th>Class_Number</th>\n",
       "      <th>Number_Of_Animal_Species_In_Class</th>\n",
       "      <th>Class_Type</th>\n",
       "      <th>Animal_Names</th>\n",
       "    </tr>\n",
       "  </thead>\n",
       "  <tbody>\n",
       "    <tr>\n",
       "      <th>0</th>\n",
       "      <td>1</td>\n",
       "      <td>41</td>\n",
       "      <td>Mammal</td>\n",
       "      <td>aardvark, antelope, bear, boar, buffalo, calf,...</td>\n",
       "    </tr>\n",
       "    <tr>\n",
       "      <th>1</th>\n",
       "      <td>2</td>\n",
       "      <td>20</td>\n",
       "      <td>Bird</td>\n",
       "      <td>chicken, crow, dove, duck, flamingo, gull, haw...</td>\n",
       "    </tr>\n",
       "    <tr>\n",
       "      <th>2</th>\n",
       "      <td>3</td>\n",
       "      <td>5</td>\n",
       "      <td>Reptile</td>\n",
       "      <td>pitviper, seasnake, slowworm, tortoise, tuatara</td>\n",
       "    </tr>\n",
       "    <tr>\n",
       "      <th>3</th>\n",
       "      <td>4</td>\n",
       "      <td>13</td>\n",
       "      <td>Fish</td>\n",
       "      <td>bass, carp, catfish, chub, dogfish, haddock, h...</td>\n",
       "    </tr>\n",
       "    <tr>\n",
       "      <th>4</th>\n",
       "      <td>5</td>\n",
       "      <td>4</td>\n",
       "      <td>Amphibian</td>\n",
       "      <td>frog, frog, newt, toad</td>\n",
       "    </tr>\n",
       "    <tr>\n",
       "      <th>5</th>\n",
       "      <td>6</td>\n",
       "      <td>8</td>\n",
       "      <td>Bug</td>\n",
       "      <td>flea, gnat, honeybee, housefly, ladybird, moth...</td>\n",
       "    </tr>\n",
       "    <tr>\n",
       "      <th>6</th>\n",
       "      <td>7</td>\n",
       "      <td>10</td>\n",
       "      <td>Invertebrate</td>\n",
       "      <td>clam, crab, crayfish, lobster, octopus, scorpi...</td>\n",
       "    </tr>\n",
       "  </tbody>\n",
       "</table>\n",
       "</div>"
      ],
      "text/plain": [
       "   Class_Number  Number_Of_Animal_Species_In_Class    Class_Type  \\\n",
       "0             1                                 41        Mammal   \n",
       "1             2                                 20          Bird   \n",
       "2             3                                  5       Reptile   \n",
       "3             4                                 13          Fish   \n",
       "4             5                                  4     Amphibian   \n",
       "5             6                                  8           Bug   \n",
       "6             7                                 10  Invertebrate   \n",
       "\n",
       "                                        Animal_Names  \n",
       "0  aardvark, antelope, bear, boar, buffalo, calf,...  \n",
       "1  chicken, crow, dove, duck, flamingo, gull, haw...  \n",
       "2    pitviper, seasnake, slowworm, tortoise, tuatara  \n",
       "3  bass, carp, catfish, chub, dogfish, haddock, h...  \n",
       "4                             frog, frog, newt, toad  \n",
       "5  flea, gnat, honeybee, housefly, ladybird, moth...  \n",
       "6  clam, crab, crayfish, lobster, octopus, scorpi...  "
      ]
     },
     "execution_count": 5,
     "metadata": {},
     "output_type": "execute_result"
    }
   ],
   "source": [
    "train_df.head(10)"
   ]
  },
  {
   "cell_type": "code",
   "execution_count": 6,
   "id": "23b2b77f",
   "metadata": {
    "execution": {
     "iopub.execute_input": "2023-04-02T17:39:31.368284Z",
     "iopub.status.busy": "2023-04-02T17:39:31.367220Z",
     "iopub.status.idle": "2023-04-02T17:39:31.386929Z",
     "shell.execute_reply": "2023-04-02T17:39:31.385679Z"
    },
    "papermill": {
     "duration": 0.027115,
     "end_time": "2023-04-02T17:39:31.389533",
     "exception": false,
     "start_time": "2023-04-02T17:39:31.362418",
     "status": "completed"
    },
    "tags": []
   },
   "outputs": [
    {
     "data": {
      "text/html": [
       "<div>\n",
       "<style scoped>\n",
       "    .dataframe tbody tr th:only-of-type {\n",
       "        vertical-align: middle;\n",
       "    }\n",
       "\n",
       "    .dataframe tbody tr th {\n",
       "        vertical-align: top;\n",
       "    }\n",
       "\n",
       "    .dataframe thead th {\n",
       "        text-align: right;\n",
       "    }\n",
       "</style>\n",
       "<table border=\"1\" class=\"dataframe\">\n",
       "  <thead>\n",
       "    <tr style=\"text-align: right;\">\n",
       "      <th></th>\n",
       "      <th>animal_name</th>\n",
       "      <th>hair</th>\n",
       "      <th>feathers</th>\n",
       "      <th>eggs</th>\n",
       "      <th>milk</th>\n",
       "      <th>airborne</th>\n",
       "      <th>aquatic</th>\n",
       "      <th>predator</th>\n",
       "      <th>toothed</th>\n",
       "      <th>backbone</th>\n",
       "      <th>breathes</th>\n",
       "      <th>venomous</th>\n",
       "      <th>fins</th>\n",
       "      <th>legs</th>\n",
       "      <th>tail</th>\n",
       "      <th>domestic</th>\n",
       "      <th>catsize</th>\n",
       "      <th>class_type</th>\n",
       "    </tr>\n",
       "  </thead>\n",
       "  <tbody>\n",
       "    <tr>\n",
       "      <th>0</th>\n",
       "      <td>aardvark</td>\n",
       "      <td>1</td>\n",
       "      <td>0</td>\n",
       "      <td>0</td>\n",
       "      <td>1</td>\n",
       "      <td>0</td>\n",
       "      <td>0</td>\n",
       "      <td>1</td>\n",
       "      <td>1</td>\n",
       "      <td>1</td>\n",
       "      <td>1</td>\n",
       "      <td>0</td>\n",
       "      <td>0</td>\n",
       "      <td>4</td>\n",
       "      <td>0</td>\n",
       "      <td>0</td>\n",
       "      <td>1</td>\n",
       "      <td>1</td>\n",
       "    </tr>\n",
       "    <tr>\n",
       "      <th>1</th>\n",
       "      <td>antelope</td>\n",
       "      <td>1</td>\n",
       "      <td>0</td>\n",
       "      <td>0</td>\n",
       "      <td>1</td>\n",
       "      <td>0</td>\n",
       "      <td>0</td>\n",
       "      <td>0</td>\n",
       "      <td>1</td>\n",
       "      <td>1</td>\n",
       "      <td>1</td>\n",
       "      <td>0</td>\n",
       "      <td>0</td>\n",
       "      <td>4</td>\n",
       "      <td>1</td>\n",
       "      <td>0</td>\n",
       "      <td>1</td>\n",
       "      <td>1</td>\n",
       "    </tr>\n",
       "    <tr>\n",
       "      <th>2</th>\n",
       "      <td>bass</td>\n",
       "      <td>0</td>\n",
       "      <td>0</td>\n",
       "      <td>1</td>\n",
       "      <td>0</td>\n",
       "      <td>0</td>\n",
       "      <td>1</td>\n",
       "      <td>1</td>\n",
       "      <td>1</td>\n",
       "      <td>1</td>\n",
       "      <td>0</td>\n",
       "      <td>0</td>\n",
       "      <td>1</td>\n",
       "      <td>0</td>\n",
       "      <td>1</td>\n",
       "      <td>0</td>\n",
       "      <td>0</td>\n",
       "      <td>4</td>\n",
       "    </tr>\n",
       "    <tr>\n",
       "      <th>3</th>\n",
       "      <td>bear</td>\n",
       "      <td>1</td>\n",
       "      <td>0</td>\n",
       "      <td>0</td>\n",
       "      <td>1</td>\n",
       "      <td>0</td>\n",
       "      <td>0</td>\n",
       "      <td>1</td>\n",
       "      <td>1</td>\n",
       "      <td>1</td>\n",
       "      <td>1</td>\n",
       "      <td>0</td>\n",
       "      <td>0</td>\n",
       "      <td>4</td>\n",
       "      <td>0</td>\n",
       "      <td>0</td>\n",
       "      <td>1</td>\n",
       "      <td>1</td>\n",
       "    </tr>\n",
       "    <tr>\n",
       "      <th>4</th>\n",
       "      <td>boar</td>\n",
       "      <td>1</td>\n",
       "      <td>0</td>\n",
       "      <td>0</td>\n",
       "      <td>1</td>\n",
       "      <td>0</td>\n",
       "      <td>0</td>\n",
       "      <td>1</td>\n",
       "      <td>1</td>\n",
       "      <td>1</td>\n",
       "      <td>1</td>\n",
       "      <td>0</td>\n",
       "      <td>0</td>\n",
       "      <td>4</td>\n",
       "      <td>1</td>\n",
       "      <td>0</td>\n",
       "      <td>1</td>\n",
       "      <td>1</td>\n",
       "    </tr>\n",
       "    <tr>\n",
       "      <th>5</th>\n",
       "      <td>buffalo</td>\n",
       "      <td>1</td>\n",
       "      <td>0</td>\n",
       "      <td>0</td>\n",
       "      <td>1</td>\n",
       "      <td>0</td>\n",
       "      <td>0</td>\n",
       "      <td>0</td>\n",
       "      <td>1</td>\n",
       "      <td>1</td>\n",
       "      <td>1</td>\n",
       "      <td>0</td>\n",
       "      <td>0</td>\n",
       "      <td>4</td>\n",
       "      <td>1</td>\n",
       "      <td>0</td>\n",
       "      <td>1</td>\n",
       "      <td>1</td>\n",
       "    </tr>\n",
       "    <tr>\n",
       "      <th>6</th>\n",
       "      <td>calf</td>\n",
       "      <td>1</td>\n",
       "      <td>0</td>\n",
       "      <td>0</td>\n",
       "      <td>1</td>\n",
       "      <td>0</td>\n",
       "      <td>0</td>\n",
       "      <td>0</td>\n",
       "      <td>1</td>\n",
       "      <td>1</td>\n",
       "      <td>1</td>\n",
       "      <td>0</td>\n",
       "      <td>0</td>\n",
       "      <td>4</td>\n",
       "      <td>1</td>\n",
       "      <td>1</td>\n",
       "      <td>1</td>\n",
       "      <td>1</td>\n",
       "    </tr>\n",
       "    <tr>\n",
       "      <th>7</th>\n",
       "      <td>carp</td>\n",
       "      <td>0</td>\n",
       "      <td>0</td>\n",
       "      <td>1</td>\n",
       "      <td>0</td>\n",
       "      <td>0</td>\n",
       "      <td>1</td>\n",
       "      <td>0</td>\n",
       "      <td>1</td>\n",
       "      <td>1</td>\n",
       "      <td>0</td>\n",
       "      <td>0</td>\n",
       "      <td>1</td>\n",
       "      <td>0</td>\n",
       "      <td>1</td>\n",
       "      <td>1</td>\n",
       "      <td>0</td>\n",
       "      <td>4</td>\n",
       "    </tr>\n",
       "    <tr>\n",
       "      <th>8</th>\n",
       "      <td>catfish</td>\n",
       "      <td>0</td>\n",
       "      <td>0</td>\n",
       "      <td>1</td>\n",
       "      <td>0</td>\n",
       "      <td>0</td>\n",
       "      <td>1</td>\n",
       "      <td>1</td>\n",
       "      <td>1</td>\n",
       "      <td>1</td>\n",
       "      <td>0</td>\n",
       "      <td>0</td>\n",
       "      <td>1</td>\n",
       "      <td>0</td>\n",
       "      <td>1</td>\n",
       "      <td>0</td>\n",
       "      <td>0</td>\n",
       "      <td>4</td>\n",
       "    </tr>\n",
       "    <tr>\n",
       "      <th>9</th>\n",
       "      <td>cavy</td>\n",
       "      <td>1</td>\n",
       "      <td>0</td>\n",
       "      <td>0</td>\n",
       "      <td>1</td>\n",
       "      <td>0</td>\n",
       "      <td>0</td>\n",
       "      <td>0</td>\n",
       "      <td>1</td>\n",
       "      <td>1</td>\n",
       "      <td>1</td>\n",
       "      <td>0</td>\n",
       "      <td>0</td>\n",
       "      <td>4</td>\n",
       "      <td>0</td>\n",
       "      <td>1</td>\n",
       "      <td>0</td>\n",
       "      <td>1</td>\n",
       "    </tr>\n",
       "  </tbody>\n",
       "</table>\n",
       "</div>"
      ],
      "text/plain": [
       "  animal_name  hair  feathers  eggs  milk  airborne  aquatic  predator  \\\n",
       "0    aardvark     1         0     0     1         0        0         1   \n",
       "1    antelope     1         0     0     1         0        0         0   \n",
       "2        bass     0         0     1     0         0        1         1   \n",
       "3        bear     1         0     0     1         0        0         1   \n",
       "4        boar     1         0     0     1         0        0         1   \n",
       "5     buffalo     1         0     0     1         0        0         0   \n",
       "6        calf     1         0     0     1         0        0         0   \n",
       "7        carp     0         0     1     0         0        1         0   \n",
       "8     catfish     0         0     1     0         0        1         1   \n",
       "9        cavy     1         0     0     1         0        0         0   \n",
       "\n",
       "   toothed  backbone  breathes  venomous  fins  legs  tail  domestic  catsize  \\\n",
       "0        1         1         1         0     0     4     0         0        1   \n",
       "1        1         1         1         0     0     4     1         0        1   \n",
       "2        1         1         0         0     1     0     1         0        0   \n",
       "3        1         1         1         0     0     4     0         0        1   \n",
       "4        1         1         1         0     0     4     1         0        1   \n",
       "5        1         1         1         0     0     4     1         0        1   \n",
       "6        1         1         1         0     0     4     1         1        1   \n",
       "7        1         1         0         0     1     0     1         1        0   \n",
       "8        1         1         0         0     1     0     1         0        0   \n",
       "9        1         1         1         0     0     4     0         1        0   \n",
       "\n",
       "   class_type  \n",
       "0           1  \n",
       "1           1  \n",
       "2           4  \n",
       "3           1  \n",
       "4           1  \n",
       "5           1  \n",
       "6           1  \n",
       "7           4  \n",
       "8           4  \n",
       "9           1  "
      ]
     },
     "execution_count": 6,
     "metadata": {},
     "output_type": "execute_result"
    }
   ],
   "source": [
    "test_df.head(10)"
   ]
  },
  {
   "cell_type": "code",
   "execution_count": 7,
   "id": "b0c8f73f",
   "metadata": {
    "execution": {
     "iopub.execute_input": "2023-04-02T17:39:31.400415Z",
     "iopub.status.busy": "2023-04-02T17:39:31.399528Z",
     "iopub.status.idle": "2023-04-02T17:39:31.406735Z",
     "shell.execute_reply": "2023-04-02T17:39:31.405282Z"
    },
    "papermill": {
     "duration": 0.015283,
     "end_time": "2023-04-02T17:39:31.409108",
     "exception": false,
     "start_time": "2023-04-02T17:39:31.393825",
     "status": "completed"
    },
    "tags": []
   },
   "outputs": [
    {
     "name": "stdout",
     "output_type": "stream",
     "text": [
      "0          Mammal\n",
      "1            Bird\n",
      "2         Reptile\n",
      "3            Fish\n",
      "4       Amphibian\n",
      "5             Bug\n",
      "6    Invertebrate\n",
      "Name: Class_Type, dtype: object\n"
     ]
    }
   ],
   "source": [
    "print(train_df['Class_Type'])"
   ]
  },
  {
   "cell_type": "code",
   "execution_count": 8,
   "id": "1115a36d",
   "metadata": {
    "execution": {
     "iopub.execute_input": "2023-04-02T17:39:31.419571Z",
     "iopub.status.busy": "2023-04-02T17:39:31.418649Z",
     "iopub.status.idle": "2023-04-02T17:39:31.427773Z",
     "shell.execute_reply": "2023-04-02T17:39:31.426810Z"
    },
    "papermill": {
     "duration": 0.016858,
     "end_time": "2023-04-02T17:39:31.430152",
     "exception": false,
     "start_time": "2023-04-02T17:39:31.413294",
     "status": "completed"
    },
    "tags": []
   },
   "outputs": [
    {
     "data": {
      "text/plain": [
       "array([1, 4, 2, 7, 6, 5, 3])"
      ]
     },
     "execution_count": 8,
     "metadata": {},
     "output_type": "execute_result"
    }
   ],
   "source": [
    "test_df[\"class_type\"].unique()"
   ]
  },
  {
   "cell_type": "code",
   "execution_count": null,
   "id": "da4dd7f8",
   "metadata": {
    "papermill": {
     "duration": 0.003952,
     "end_time": "2023-04-02T17:39:31.438387",
     "exception": false,
     "start_time": "2023-04-02T17:39:31.434435",
     "status": "completed"
    },
    "tags": []
   },
   "outputs": [],
   "source": []
  },
  {
   "cell_type": "code",
   "execution_count": null,
   "id": "1803403e",
   "metadata": {
    "papermill": {
     "duration": 0.0038,
     "end_time": "2023-04-02T17:39:31.446388",
     "exception": false,
     "start_time": "2023-04-02T17:39:31.442588",
     "status": "completed"
    },
    "tags": []
   },
   "outputs": [],
   "source": []
  }
 ],
 "metadata": {
  "kernelspec": {
   "display_name": "Python 3",
   "language": "python",
   "name": "python3"
  },
  "language_info": {
   "codemirror_mode": {
    "name": "ipython",
    "version": 3
   },
   "file_extension": ".py",
   "mimetype": "text/x-python",
   "name": "python",
   "nbconvert_exporter": "python",
   "pygments_lexer": "ipython3",
   "version": "3.7.12"
  },
  "papermill": {
   "default_parameters": {},
   "duration": 13.545161,
   "end_time": "2023-04-02T17:39:32.474901",
   "environment_variables": {},
   "exception": null,
   "input_path": "__notebook__.ipynb",
   "output_path": "__notebook__.ipynb",
   "parameters": {},
   "start_time": "2023-04-02T17:39:18.929740",
   "version": "2.4.0"
  }
 },
 "nbformat": 4,
 "nbformat_minor": 5
}
