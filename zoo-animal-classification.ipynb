{
 "cells": [
  {
   "cell_type": "code",
   "execution_count": 1,
   "id": "e2d9535e",
   "metadata": {
    "_cell_guid": "b1076dfc-b9ad-4769-8c92-a6c4dae69d19",
    "_uuid": "8f2839f25d086af736a60e9eeb907d3b93b6e0e5",
    "execution": {
     "iopub.execute_input": "2023-04-02T16:26:06.931011Z",
     "iopub.status.busy": "2023-04-02T16:26:06.930575Z",
     "iopub.status.idle": "2023-04-02T16:26:06.948635Z",
     "shell.execute_reply": "2023-04-02T16:26:06.947011Z"
    },
    "papermill": {
     "duration": 0.026198,
     "end_time": "2023-04-02T16:26:06.952030",
     "exception": false,
     "start_time": "2023-04-02T16:26:06.925832",
     "status": "completed"
    },
    "tags": []
   },
   "outputs": [
    {
     "name": "stdout",
     "output_type": "stream",
     "text": [
      "/kaggle/input/zoo-animal-classification/class.csv\n",
      "/kaggle/input/zoo-animal-classification/zoo.csv\n"
     ]
    }
   ],
   "source": [
    "import numpy as np\n",
    "import pandas as pd\n",
    "\n",
    "import os\n",
    "for dirname, _, filenames in os.walk('/kaggle/input'):\n",
    "    for filename in filenames:\n",
    "        print(os.path.join(dirname, filename))\n",
    "\n",
    "import warnings\n",
    "warnings.filterwarnings(\"ignore\")"
   ]
  },
  {
   "cell_type": "code",
   "execution_count": 2,
   "id": "08fccee4",
   "metadata": {
    "execution": {
     "iopub.execute_input": "2023-04-02T16:26:06.958370Z",
     "iopub.status.busy": "2023-04-02T16:26:06.957952Z",
     "iopub.status.idle": "2023-04-02T16:26:06.975161Z",
     "shell.execute_reply": "2023-04-02T16:26:06.974006Z"
    },
    "papermill": {
     "duration": 0.023537,
     "end_time": "2023-04-02T16:26:06.977906",
     "exception": false,
     "start_time": "2023-04-02T16:26:06.954369",
     "status": "completed"
    },
    "tags": []
   },
   "outputs": [],
   "source": [
    "df = pd.read_csv(\"/kaggle/input/zoo-animal-classification/zoo.csv\")"
   ]
  },
  {
   "cell_type": "code",
   "execution_count": 3,
   "id": "b57f5510",
   "metadata": {
    "execution": {
     "iopub.execute_input": "2023-04-02T16:26:06.983633Z",
     "iopub.status.busy": "2023-04-02T16:26:06.982843Z",
     "iopub.status.idle": "2023-04-02T16:26:07.011267Z",
     "shell.execute_reply": "2023-04-02T16:26:07.009479Z"
    },
    "papermill": {
     "duration": 0.034343,
     "end_time": "2023-04-02T16:26:07.014277",
     "exception": false,
     "start_time": "2023-04-02T16:26:06.979934",
     "status": "completed"
    },
    "tags": []
   },
   "outputs": [
    {
     "name": "stdout",
     "output_type": "stream",
     "text": [
      "<class 'pandas.core.frame.DataFrame'>\n",
      "RangeIndex: 101 entries, 0 to 100\n",
      "Data columns (total 18 columns):\n",
      " #   Column       Non-Null Count  Dtype \n",
      "---  ------       --------------  ----- \n",
      " 0   animal_name  101 non-null    object\n",
      " 1   hair         101 non-null    int64 \n",
      " 2   feathers     101 non-null    int64 \n",
      " 3   eggs         101 non-null    int64 \n",
      " 4   milk         101 non-null    int64 \n",
      " 5   airborne     101 non-null    int64 \n",
      " 6   aquatic      101 non-null    int64 \n",
      " 7   predator     101 non-null    int64 \n",
      " 8   toothed      101 non-null    int64 \n",
      " 9   backbone     101 non-null    int64 \n",
      " 10  breathes     101 non-null    int64 \n",
      " 11  venomous     101 non-null    int64 \n",
      " 12  fins         101 non-null    int64 \n",
      " 13  legs         101 non-null    int64 \n",
      " 14  tail         101 non-null    int64 \n",
      " 15  domestic     101 non-null    int64 \n",
      " 16  catsize      101 non-null    int64 \n",
      " 17  class_type   101 non-null    int64 \n",
      "dtypes: int64(17), object(1)\n",
      "memory usage: 14.3+ KB\n"
     ]
    }
   ],
   "source": [
    "df.info()"
   ]
  }
 ],
 "metadata": {
  "kernelspec": {
   "display_name": "Python 3",
   "language": "python",
   "name": "python3"
  },
  "language_info": {
   "codemirror_mode": {
    "name": "ipython",
    "version": 3
   },
   "file_extension": ".py",
   "mimetype": "text/x-python",
   "name": "python",
   "nbconvert_exporter": "python",
   "pygments_lexer": "ipython3",
   "version": "3.7.12"
  },
  "papermill": {
   "default_parameters": {},
   "duration": 11.061533,
   "end_time": "2023-04-02T16:26:07.638345",
   "environment_variables": {},
   "exception": null,
   "input_path": "__notebook__.ipynb",
   "output_path": "__notebook__.ipynb",
   "parameters": {},
   "start_time": "2023-04-02T16:25:56.576812",
   "version": "2.4.0"
  }
 },
 "nbformat": 4,
 "nbformat_minor": 5
}
